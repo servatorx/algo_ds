{
 "cells": [
  {
   "cell_type": "markdown",
   "metadata": {
    "id": "29Ii-h2Auf94"
   },
   "source": [
    "## Алгоритм kNN"
   ]
  },
  {
   "cell_type": "markdown",
   "metadata": {
    "id": "ANWmZgT2uf99"
   },
   "source": [
    "Реализуем алгоритм kNN с помощью Python."
   ]
  },
  {
   "cell_type": "code",
   "execution_count": 30,
   "metadata": {
    "executionInfo": {
     "elapsed": 1581,
     "status": "ok",
     "timestamp": 1615629390639,
     "user": {
      "displayName": "Арсений Быков",
      "photoUrl": "",
      "userId": "09996060932207575868"
     },
     "user_tz": -180
    },
    "id": "ChmkZ71kuf9-"
   },
   "outputs": [],
   "source": [
    "import numpy as np\n",
    "from sklearn import model_selection\n",
    "\n",
    "from sklearn.datasets import load_iris\n",
    "import matplotlib.pyplot as plt\n",
    "from matplotlib.colors import ListedColormap"
   ]
  },
  {
   "cell_type": "markdown",
   "metadata": {
    "id": "V5FaldH6uf-B"
   },
   "source": [
    "Загрузим один из \"игрушечных\" датасетов из sklearn."
   ]
  },
  {
   "cell_type": "code",
   "execution_count": 31,
   "metadata": {
    "executionInfo": {
     "elapsed": 1412,
     "status": "ok",
     "timestamp": 1615629395222,
     "user": {
      "displayName": "Арсений Быков",
      "photoUrl": "",
      "userId": "09996060932207575868"
     },
     "user_tz": -180
    },
    "id": "_49Y22E9uf-C"
   },
   "outputs": [],
   "source": [
    "X, y = load_iris(return_X_y=True)\n",
    "\n",
    "# Для наглядности возьмем только первые два признака (всего в датасете их 4)\n",
    "X = X[:, :2]"
   ]
  },
  {
   "cell_type": "markdown",
   "metadata": {
    "id": "ZpwmydFPuf-F"
   },
   "source": [
    "Разделим выборку на обучающую и тестовую"
   ]
  },
  {
   "cell_type": "code",
   "execution_count": 32,
   "metadata": {
    "executionInfo": {
     "elapsed": 1255,
     "status": "ok",
     "timestamp": 1615629399624,
     "user": {
      "displayName": "Арсений Быков",
      "photoUrl": "",
      "userId": "09996060932207575868"
     },
     "user_tz": -180
    },
    "id": "ACYClLghuf-F"
   },
   "outputs": [],
   "source": [
    "X_train, X_test, y_train, y_test = model_selection.train_test_split(X, y, test_size=0.2, random_state=1)"
   ]
  },
  {
   "cell_type": "code",
   "execution_count": 33,
   "metadata": {
    "colab": {
     "base_uri": "https://localhost:8080/",
     "height": 448
    },
    "executionInfo": {
     "elapsed": 1470,
     "status": "ok",
     "timestamp": 1615629403126,
     "user": {
      "displayName": "Арсений Быков",
      "photoUrl": "",
      "userId": "09996060932207575868"
     },
     "user_tz": -180
    },
    "id": "Johgj2p6uf-J",
    "outputId": "5f56017e-f182-44bd-80c9-4fb5d0f0fa8a"
   },
   "outputs": [
    {
     "data": {
      "text/plain": [
       "<matplotlib.collections.PathCollection at 0x1bd1b5d6b08>"
      ]
     },
     "execution_count": 33,
     "metadata": {},
     "output_type": "execute_result"
    },
    {
     "data": {
      "image/png": "[encoded data removed]",
      "text/plain": [
       "<Figure size 504x504 with 1 Axes>"
      ]
     },
     "metadata": {
      "needs_background": "light"
     },
     "output_type": "display_data"
    }
   ],
   "source": [
    "cmap = ListedColormap(['red', 'green', 'blue'])\n",
    "plt.figure(figsize=(7, 7))\n",
    "plt.scatter(X[:, 0], X[:, 1], c=y, cmap=cmap)"
   ]
  },
  {
   "cell_type": "markdown",
   "metadata": {
    "id": "59xP1kfUuf-O"
   },
   "source": [
    "Используем евклидову метрику. Реализуем функцию для ее подсчета."
   ]
  },
  {
   "cell_type": "code",
   "execution_count": 34,
   "metadata": {
    "executionInfo": {
     "elapsed": 932,
     "status": "ok",
     "timestamp": 1615629409854,
     "user": {
      "displayName": "Арсений Быков",
      "photoUrl": "",
      "userId": "09996060932207575868"
     },
     "user_tz": -180
    },
    "id": "MKipIKeGuf-P"
   },
   "outputs": [],
   "source": [
    "def e_metrics(x1, x2):\n",
    "    \n",
    "    return np.sqrt(np.sum((x2-x1)**2))"
   ]
  },
  {
   "cell_type": "markdown",
   "metadata": {
    "id": "1tvFJ8-ouf-T"
   },
   "source": [
    "Реализуем алгоритм поиска k ближайших соседей."
   ]
  },
  {
   "cell_type": "code",
   "execution_count": 35,
   "metadata": {
    "executionInfo": {
     "elapsed": 855,
     "status": "ok",
     "timestamp": 1615629413863,
     "user": {
      "displayName": "Арсений Быков",
      "photoUrl": "",
      "userId": "09996060932207575868"
     },
     "user_tz": -180
    },
    "id": "LIKuDr9huf-V"
   },
   "outputs": [],
   "source": [
    "def knn(x_train, y_train, x_test, k):\n",
    "    \n",
    "    answers = []\n",
    "    for x in x_test:\n",
    "        test_distances = []\n",
    "            \n",
    "        for i in range(len(x_train)):\n",
    "            \n",
    "            # расчет расстояния от классифицируемого объекта до\n",
    "            # объекта обучающей выборки\n",
    "            distance = e_metrics(x, x_train[i])\n",
    "            \n",
    "            # Записываем в список значение расстояния и ответа на объекте обучающей выборки\n",
    "            test_distances.append((distance, y_train[i]))\n",
    "        \n",
    "        # создаем словарь со всеми возможными классами\n",
    "        classes = {class_item: 0 for class_item in set(y_train)}\n",
    "        sort_distance = sorted(test_distances)[0:k]\n",
    "\n",
    "        for d in range(k):\n",
    "            dist, class_label = sort_distance[d]\n",
    "            classes[class_label] += 1/(dist+0.001)\n",
    "            \n",
    "        # Записываем в список ответов наиболее часто встречающийся класс\n",
    "        answers.append(sorted(classes, key=classes.get)[-1])\n",
    "    return answers"
   ]
  },
  {
   "cell_type": "markdown",
   "metadata": {
    "id": "7DVrbUPyuf-X"
   },
   "source": [
    "Напишем функцию для вычисления точности"
   ]
  },
  {
   "cell_type": "code",
   "execution_count": 36,
   "metadata": {
    "executionInfo": {
     "elapsed": 662,
     "status": "ok",
     "timestamp": 1615629483949,
     "user": {
      "displayName": "Арсений Быков",
      "photoUrl": "",
      "userId": "09996060932207575868"
     },
     "user_tz": -180
    },
    "id": "eK2Bn_7ouf-Y"
   },
   "outputs": [],
   "source": [
    "def accuracy(pred, y):\n",
    "    return (sum(pred == y) / len(y))"
   ]
  },
  {
   "cell_type": "markdown",
   "metadata": {
    "id": "SprqYVBQuf-a"
   },
   "source": [
    "Проверим работу алгоритма при различных k"
   ]
  },
  {
   "cell_type": "code",
   "execution_count": 37,
   "metadata": {
    "colab": {
     "base_uri": "https://localhost:8080/"
    },
    "executionInfo": {
     "elapsed": 1936,
     "status": "ok",
     "timestamp": 1615569363502,
     "user": {
      "displayName": "Арсений Быков",
      "photoUrl": "",
      "userId": "09996060932207575868"
     },
     "user_tz": -180
    },
    "id": "8K98g57quf-a",
    "outputId": "339de2e8-27f3-4989-a810-bbb5a73dc572"
   },
   "outputs": [
    {
     "name": "stdout",
     "output_type": "stream",
     "text": [
      "Точность алгоритма при k = 1: 0.667\n"
     ]
    }
   ],
   "source": [
    "k = 1\n",
    "\n",
    "y_pred = knn(X_train, y_train, X_test, k)\n",
    "\n",
    "print(f'Точность алгоритма при k = {k}: {accuracy(y_pred, y_test):.3f}')"
   ]
  },
  {
   "cell_type": "markdown",
   "metadata": {
    "id": "YahR_F7xuf-d"
   },
   "source": [
    "Построим график распределения классов."
   ]
  },
  {
   "cell_type": "code",
   "execution_count": 38,
   "metadata": {
    "executionInfo": {
     "elapsed": 1886,
     "status": "ok",
     "timestamp": 1615569500191,
     "user": {
      "displayName": "Арсений Быков",
      "photoUrl": "",
      "userId": "09996060932207575868"
     },
     "user_tz": -180
    },
    "id": "vN4DDyMauf-e"
   },
   "outputs": [],
   "source": [
    "def get_graph(X_train, y_train, k):\n",
    "    cmap_light = ListedColormap(['#FFAAAA', '#AAFFAA','#00AAFF'])\n",
    "\n",
    "    h = .02\n",
    "\n",
    "    # Расчет пределов графика\n",
    "    x_min, x_max = X_train[:, 0].min() - 1, X_train[:, 0].max() + 1\n",
    "    y_min, y_max = X_train[:, 1].min() - 1, X_train[:, 1].max() + 1\n",
    "    xx, yy = np.meshgrid(np.arange(x_min, x_max, h), np.arange(y_min, y_max, h))\n",
    "\n",
    "    # Получим предсказания для всех точек\n",
    "    Z = knn(X_train, y_train, np.c_[xx.ravel(), yy.ravel()], k)\n",
    "\n",
    "    # Построим график\n",
    "    Z = np.array(Z).reshape(xx.shape)\n",
    "    plt.figure(figsize=(7,7))\n",
    "    plt.pcolormesh(xx, yy, Z, cmap=cmap_light)\n",
    "\n",
    "    # Добавим на график обучающую выборку\n",
    "    plt.scatter(X_train[:, 0], X_train[:, 1], c=y_train, cmap=cmap)\n",
    "    plt.xlim(xx.min(), xx.max())\n",
    "    plt.ylim(yy.min(), yy.max())\n",
    "    plt.title(f\"Трехклассовая kNN классификация при k = {k}\")\n",
    "    plt.show()"
   ]
  },
  {
   "cell_type": "code",
   "execution_count": 61,
   "metadata": {
    "colab": {
     "base_uri": "https://localhost:8080/",
     "height": 444
    },
    "executionInfo": {
     "elapsed": 72810,
     "status": "ok",
     "timestamp": 1615569579066,
     "user": {
      "displayName": "Арсений Быков",
      "photoUrl": "",
      "userId": "09996060932207575868"
     },
     "user_tz": -180
    },
    "id": "B0twiiFZuf-i",
    "outputId": "10bd677b-eb1e-4c43-b6f6-a1fd15d04e7d"
   },
   "outputs": [
    {
     "data": {
      "image/png": "[encoded data removed]",
      "text/plain": [
       "<Figure size 504x504 with 1 Axes>"
      ]
     },
     "metadata": {
      "needs_background": "light"
     },
     "output_type": "display_data"
    }
   ],
   "source": [
    "get_graph(X_train, y_train, k)"
   ]
  },
  {
   "cell_type": "code",
   "execution_count": 40,
   "metadata": {
    "colab": {
     "base_uri": "https://localhost:8080/"
    },
    "executionInfo": {
     "elapsed": 1736,
     "status": "ok",
     "timestamp": 1615569391058,
     "user": {
      "displayName": "Арсений Быков",
      "photoUrl": "",
      "userId": "09996060932207575868"
     },
     "user_tz": -180
    },
    "id": "_HyO60dnuf-l",
    "outputId": "364a5a2e-640a-4cb1-cdb4-0a63268aec83"
   },
   "outputs": [
    {
     "name": "stdout",
     "output_type": "stream",
     "text": [
      "Точность алгоритма при k = 3: 0.733\n"
     ]
    }
   ],
   "source": [
    "k = 3\n",
    "\n",
    "y_pred = knn(X_train, y_train, X_test, k)\n",
    "\n",
    "print(f'Точность алгоритма при k = {k}: {accuracy(y_pred, y_test):.3f}')"
   ]
  },
  {
   "cell_type": "code",
   "execution_count": 41,
   "metadata": {
    "id": "zuxShjfxuf-n",
    "outputId": "21f96cdd-2d09-4cf2-d943-7835c2e222e7"
   },
   "outputs": [
    {
     "data": {
      "image/png": "[encoded data removed]",
      "text/plain": [
       "<Figure size 504x504 with 1 Axes>"
      ]
     },
     "metadata": {
      "needs_background": "light"
     },
     "output_type": "display_data"
    }
   ],
   "source": [
    "get_graph(X_train, y_train, k)"
   ]
  },
  {
   "cell_type": "code",
   "execution_count": 42,
   "metadata": {
    "colab": {
     "base_uri": "https://localhost:8080/"
    },
    "executionInfo": {
     "elapsed": 2321,
     "status": "ok",
     "timestamp": 1615569404397,
     "user": {
      "displayName": "Арсений Быков",
      "photoUrl": "",
      "userId": "09996060932207575868"
     },
     "user_tz": -180
    },
    "id": "v276kSfFuf-q",
    "outputId": "d806545f-fc66-4fca-bba9-6c98ce064482"
   },
   "outputs": [
    {
     "name": "stdout",
     "output_type": "stream",
     "text": [
      "Точность алгоритма при k = 5: 0.833\n"
     ]
    }
   ],
   "source": [
    "k = 5\n",
    "\n",
    "y_pred = knn(X_train, y_train, X_test, k)\n",
    "\n",
    "print(f'Точность алгоритма при k = {k}: {accuracy(y_pred, y_test):.3f}')"
   ]
  },
  {
   "cell_type": "code",
   "execution_count": 43,
   "metadata": {
    "id": "N0uMulUpuf-u",
    "outputId": "16611f87-8ab1-4ac2-f4ef-79dedd7847db"
   },
   "outputs": [
    {
     "data": {
      "image/png": "[encoded data removed]",
      "text/plain": [
       "<Figure size 504x504 with 1 Axes>"
      ]
     },
     "metadata": {
      "needs_background": "light"
     },
     "output_type": "display_data"
    }
   ],
   "source": [
    "get_graph(X_train, y_train, k)"
   ]
  },
  {
   "cell_type": "code",
   "execution_count": 44,
   "metadata": {
    "colab": {
     "base_uri": "https://localhost:8080/"
    },
    "executionInfo": {
     "elapsed": 2018,
     "status": "ok",
     "timestamp": 1615569417835,
     "user": {
      "displayName": "Арсений Быков",
      "photoUrl": "",
      "userId": "09996060932207575868"
     },
     "user_tz": -180
    },
    "id": "i-FpThNiuf-0",
    "outputId": "24632809-4d29-48d1-cf69-e8c5645ee33c"
   },
   "outputs": [
    {
     "name": "stdout",
     "output_type": "stream",
     "text": [
      "Точность алгоритма при k = 10: 0.833\n"
     ]
    }
   ],
   "source": [
    "k = 10\n",
    "\n",
    "y_pred = knn(X_train, y_train, X_test, k)\n",
    "\n",
    "print(f'Точность алгоритма при k = {k}: {accuracy(y_pred, y_test):.3f}')"
   ]
  },
  {
   "cell_type": "code",
   "execution_count": 45,
   "metadata": {
    "id": "U1nSITJluf-3",
    "outputId": "49d8fca3-4aaf-4c74-9ef8-15133b13f7d8"
   },
   "outputs": [
    {
     "data": {
      "image/png": "[encoded data removed]",
      "text/plain": [
       "<Figure size 504x504 with 1 Axes>"
      ]
     },
     "metadata": {
      "needs_background": "light"
     },
     "output_type": "display_data"
    }
   ],
   "source": [
    "get_graph(X_train, y_train, k)"
   ]
  },
  {
   "cell_type": "markdown",
   "metadata": {
    "id": "oq8LyMncuf_B"
   },
   "source": [
    "### Алгоритм K-means (K-средних)"
   ]
  },
  {
   "cell_type": "markdown",
   "metadata": {
    "id": "Slqzj4Siuf_C"
   },
   "source": [
    "Одним из самых простых и популярных алгоритмов кластеризации является алгоритм _K-means (K-средних)_. Заключается он в следующих шагах:\n",
    "\n",
    "1. Выбрать количество кластеров $k$, на которые будут делиться данные.\n",
    "\n",
    "\n",
    "2. Случайным образом выбрать в пространстве данных $k$ точек $c_{k}$ (центроидов) - центров будущих кластеров.\n",
    "\n",
    "\n",
    "3. Для каждой точки из выборки посчитать, к какому из центроидов она ближе.\n",
    "\n",
    "\n",
    "4. Переместить каждый центроид в центр выборки, отнесенной к этому центроиду, определив его как среднее арифметическое всех точек кластера:\n",
    "\n",
    "$$c_{k} = \\frac{\\sum_{i=1}^{l}[a(x_{i})=k]x_{i}}{\\sum_{i=1}^{l}[a(x_{i}) = k]}.$$\n",
    "\n",
    "\n",
    "5. Повторить шаги 4-5 до сходимости алгоритма (обычно это оценивается по величине смещения центроида после каждого шага - сходимость означает непревышение смещения какого-то заданного значения).\n",
    "\n",
    "Результат работы алгоритма значительно зависит от начального выбора центроидов. Существует много методик их выбора, наиболее удачным из которых считается k-means++. Он заключается в последовательном выборе начальных приближений так, что вероятность выбрать в качестве центроида следующую точку пропорциональна квадрату расстояния от нее до ближайшего центроида."
   ]
  },
  {
   "cell_type": "markdown",
   "metadata": {
    "id": "xDbkTkTYuf_F"
   },
   "source": [
    "Вначале сгенерируем три облака точек с помощью инструментов `sklearn`."
   ]
  },
  {
   "cell_type": "code",
   "execution_count": 46,
   "metadata": {
    "executionInfo": {
     "elapsed": 852,
     "status": "ok",
     "timestamp": 1615629550894,
     "user": {
      "displayName": "Арсений Быков",
      "photoUrl": "",
      "userId": "09996060932207575868"
     },
     "user_tz": -180
    },
    "id": "qRhCTQdZuf_G"
   },
   "outputs": [],
   "source": [
    "from sklearn.datasets import make_blobs\n",
    "import random\n",
    "\n",
    "X, y = make_blobs(n_samples=100, random_state=1)"
   ]
  },
  {
   "cell_type": "markdown",
   "metadata": {
    "id": "Vv0J1xcDuf_H"
   },
   "source": [
    "Изобразим точки на графике."
   ]
  },
  {
   "cell_type": "code",
   "execution_count": 47,
   "metadata": {
    "colab": {
     "base_uri": "https://localhost:8080/",
     "height": 446
    },
    "executionInfo": {
     "elapsed": 856,
     "status": "ok",
     "timestamp": 1615629553777,
     "user": {
      "displayName": "Арсений Быков",
      "photoUrl": "",
      "userId": "09996060932207575868"
     },
     "user_tz": -180
    },
    "id": "I6VqFOARuf_I",
    "outputId": "fa5da25d-7970-4fe9-f326-3edb91b097bc"
   },
   "outputs": [
    {
     "data": {
      "text/plain": [
       "<matplotlib.collections.PathCollection at 0x1bd1bf77708>"
      ]
     },
     "execution_count": 47,
     "metadata": {},
     "output_type": "execute_result"
    },
    {
     "data": {
      "image/png": "[encoded data removed]",
      "text/plain": [
       "<Figure size 504x504 with 1 Axes>"
      ]
     },
     "metadata": {
      "needs_background": "light"
     },
     "output_type": "display_data"
    }
   ],
   "source": [
    "plt.figure(figsize=(7,7))\n",
    "plt.scatter(X[:, 0], X[:, 1])"
   ]
  },
  {
   "cell_type": "markdown",
   "metadata": {
    "id": "a421abi0uf_L"
   },
   "source": [
    "В качестве метрики расстояния будем использовать евклидово расстояние, функция для которого была написана ранее. В качестве центроидов выберем первые k элементов датасета. Реализуем основной цикл алгоритма."
   ]
  },
  {
   "cell_type": "code",
   "execution_count": 48,
   "metadata": {
    "executionInfo": {
     "elapsed": 903,
     "status": "ok",
     "timestamp": 1615629561235,
     "user": {
      "displayName": "Арсений Быков",
      "photoUrl": "",
      "userId": "09996060932207575868"
     },
     "user_tz": -180
    },
    "id": "7LSTomiyuf_L"
   },
   "outputs": [],
   "source": [
    "def kmeans(data, k, max_iterations, min_distance):\n",
    "    # Создадим словарь для классификации\n",
    "    classes = {i: [] for i in range(k)}\n",
    "    \n",
    "    # инициализируем центроиды как первые k элементов датасета\n",
    "    centroids = [data[i] for i in range(k)]\n",
    "    \n",
    "    for _ in range(max_iterations):\n",
    "        # классифицируем объекты по центроидам\n",
    "        for x in data:\n",
    "            # определим расстояния от объекта до каждого центроида\n",
    "            distances = [e_metrics(x, centroid) for centroid in centroids]\n",
    "            # отнесем объект к кластеру, до центроида которого наименьшее расстояние\n",
    "            classification = distances.index(min(distances))\n",
    "            classes[classification].append(x)\n",
    "        \n",
    "        # сохраним предыдущие центроиды в отдельный список для последующего сравнения сновыми\n",
    "        old_centroids = centroids.copy()\n",
    "        \n",
    "        # пересчитаем центроиды как среднее по кластерам\n",
    "        for classification in classes:\n",
    "            centroids[classification] = np.average(classes[classification], axis=0)\n",
    "            \n",
    "        # сравним величину смещения центроидов с минимальной\n",
    "        optimal = True\n",
    "        for centroid in range(len(centroids)):\n",
    "            if np.sum(abs((centroids[centroid] - old_centroids[centroid]) / old_centroids * 100)) > min_distance:\n",
    "                optimal = False\n",
    "                \n",
    "        # если все смещения меньше минимального, останавливаем алгоритм  \n",
    "        if optimal:\n",
    "            break\n",
    "    \n",
    "    return old_centroids, classes"
   ]
  },
  {
   "cell_type": "markdown",
   "metadata": {
    "id": "hF5nlCxFuf_O"
   },
   "source": [
    "Напишем функцию для визуализации кластеров"
   ]
  },
  {
   "cell_type": "code",
   "execution_count": 49,
   "metadata": {
    "executionInfo": {
     "elapsed": 841,
     "status": "ok",
     "timestamp": 1615629566601,
     "user": {
      "displayName": "Арсений Быков",
      "photoUrl": "",
      "userId": "09996060932207575868"
     },
     "user_tz": -180
    },
    "id": "D5RysDcPuf_O"
   },
   "outputs": [],
   "source": [
    "def visualize(centroids, classes):\n",
    "    colors = ['r', 'g', 'b', 'm']\n",
    "    \n",
    "    plt.figure(figsize=(7,7))\n",
    "    \n",
    "    # нанесем на график центроиды\n",
    "    for centroid in centroids:\n",
    "        plt.scatter(centroid[0], centroid[1], marker='x', s=130, c='black')\n",
    "        \n",
    "    # нанесем объекты раскрашенные по классам\n",
    "    for class_item in classes:\n",
    "        for x in classes[class_item]:\n",
    "            plt.scatter(x[0], x[1], color=colors[class_item])\n",
    "            \n",
    "    plt.show()"
   ]
  },
  {
   "cell_type": "code",
   "execution_count": 50,
   "metadata": {
    "executionInfo": {
     "elapsed": 1137,
     "status": "ok",
     "timestamp": 1615629571130,
     "user": {
      "displayName": "Арсений Быков",
      "photoUrl": "",
      "userId": "09996060932207575868"
     },
     "user_tz": -180
    },
    "id": "Hsy8q0FOuf_Q"
   },
   "outputs": [],
   "source": [
    "# определим максимальное количество итераций\n",
    "max_iterations = 1\n",
    "\n",
    "# и минимальное расстояние между центроидами до пересчета и после него, при котором нужно остановить алгоритм\n",
    "min_distance = 1e-4\n",
    "\n",
    "# сразу определим известное нам количество кластеров\n",
    "k = 3"
   ]
  },
  {
   "cell_type": "markdown",
   "metadata": {
    "id": "ykFQU-1guf_S"
   },
   "source": [
    "Проверим результат алгоритма после одной итерации"
   ]
  },
  {
   "cell_type": "code",
   "execution_count": 51,
   "metadata": {
    "colab": {
     "base_uri": "https://localhost:8080/",
     "height": 428
    },
    "executionInfo": {
     "elapsed": 1205,
     "status": "ok",
     "timestamp": 1615629575666,
     "user": {
      "displayName": "Арсений Быков",
      "photoUrl": "",
      "userId": "09996060932207575868"
     },
     "user_tz": -180
    },
    "id": "DzJTqoBuuf_T",
    "outputId": "6ad6a2f4-6a7b-4c18-bdc0-b8a3b8deeefc"
   },
   "outputs": [
    {
     "data": {
      "image/png": "[encoded data removed]",
      "text/plain": [
       "<Figure size 504x504 with 1 Axes>"
      ]
     },
     "metadata": {
      "needs_background": "light"
     },
     "output_type": "display_data"
    }
   ],
   "source": [
    "centroids, clusters = kmeans(X, k, max_iterations, min_distance)\n",
    "\n",
    "visualize(centroids, clusters)"
   ]
  },
  {
   "cell_type": "markdown",
   "metadata": {
    "id": "3_Zi1CuPuf_W"
   },
   "source": [
    "Проверим работу алгоритма при различном числе итераций."
   ]
  },
  {
   "cell_type": "code",
   "execution_count": 52,
   "metadata": {
    "colab": {
     "base_uri": "https://localhost:8080/",
     "height": 428
    },
    "executionInfo": {
     "elapsed": 1857,
     "status": "ok",
     "timestamp": 1615629586158,
     "user": {
      "displayName": "Арсений Быков",
      "photoUrl": "",
      "userId": "09996060932207575868"
     },
     "user_tz": -180
    },
    "id": "Rt7c3Vdxuf_X",
    "outputId": "780fab43-d811-4a3b-b0b8-e928112f6952"
   },
   "outputs": [
    {
     "data": {
      "image/png": "[encoded data removed]",
      "text/plain": [
       "<Figure size 504x504 with 1 Axes>"
      ]
     },
     "metadata": {
      "needs_background": "light"
     },
     "output_type": "display_data"
    }
   ],
   "source": [
    "max_iterations = 3\n",
    "\n",
    "centroids, clusters = kmeans(X, k, max_iterations, min_distance)\n",
    "\n",
    "visualize(centroids, clusters)"
   ]
  },
  {
   "cell_type": "code",
   "execution_count": 53,
   "metadata": {
    "colab": {
     "base_uri": "https://localhost:8080/",
     "height": 428
    },
    "executionInfo": {
     "elapsed": 2606,
     "status": "ok",
     "timestamp": 1615629593191,
     "user": {
      "displayName": "Арсений Быков",
      "photoUrl": "",
      "userId": "09996060932207575868"
     },
     "user_tz": -180
    },
    "id": "YfMBMBlQuf_a",
    "outputId": "4535abe8-a22d-41f3-f745-92eaf87c3a96"
   },
   "outputs": [
    {
     "data": {
      "image/png": "[encoded data removed]",
      "text/plain": [
       "<Figure size 504x504 with 1 Axes>"
      ]
     },
     "metadata": {
      "needs_background": "light"
     },
     "output_type": "display_data"
    }
   ],
   "source": [
    "max_iterations = 5\n",
    "\n",
    "centroids, clusters = kmeans(X, k, max_iterations, min_distance)\n",
    "\n",
    "visualize(centroids, clusters)"
   ]
  },
  {
   "cell_type": "code",
   "execution_count": 54,
   "metadata": {
    "colab": {
     "base_uri": "https://localhost:8080/",
     "height": 428
    },
    "executionInfo": {
     "elapsed": 5112,
     "status": "ok",
     "timestamp": 1615630363118,
     "user": {
      "displayName": "Арсений Быков",
      "photoUrl": "",
      "userId": "09996060932207575868"
     },
     "user_tz": -180
    },
    "id": "tfdoJFyUuf_c",
    "outputId": "13485c57-7fcd-454d-ae3a-a2d7fb1aa36e"
   },
   "outputs": [
    {
     "data": {
      "image/png": "[encoded data removed]",
      "text/plain": [
       "<Figure size 504x504 with 1 Axes>"
      ]
     },
     "metadata": {
      "needs_background": "light"
     },
     "output_type": "display_data"
    }
   ],
   "source": [
    "max_iterations = 10\n",
    "\n",
    "centroids, clusters = kmeans(X, k, max_iterations, min_distance)\n",
    "\n",
    "visualize(centroids, clusters)"
   ]
  },
  {
   "cell_type": "code",
   "execution_count": 55,
   "metadata": {
    "colab": {
     "base_uri": "https://localhost:8080/",
     "height": 428
    },
    "executionInfo": {
     "elapsed": 17552,
     "status": "ok",
     "timestamp": 1615630397160,
     "user": {
      "displayName": "Арсений Быков",
      "photoUrl": "",
      "userId": "09996060932207575868"
     },
     "user_tz": -180
    },
    "id": "x9tuVUeeFmFb",
    "outputId": "13e4f38c-50d4-48c9-b73b-e610b9b3f6cf"
   },
   "outputs": [
    {
     "data": {
      "image/png": "[encoded data removed]",
      "text/plain": [
       "<Figure size 504x504 with 1 Axes>"
      ]
     },
     "metadata": {
      "needs_background": "light"
     },
     "output_type": "display_data"
    }
   ],
   "source": [
    "max_iterations = 25\n",
    "\n",
    "centroids, clusters = kmeans(X, 4, max_iterations, min_distance)\n",
    "\n",
    "visualize(centroids, clusters)"
   ]
  },
  {
   "cell_type": "markdown",
   "metadata": {
    "id": "6ae6JP1qFdJH"
   },
   "source": [
    "Далее попробуем обнаружить, что кластер 3(нумерация кластеров идёт с нуля) \"лишний\" при помощи соотношений значения межкластерной дистанции к внутрикластерной. Подробнее про межкластерные и внутрикластерные расстояния: https://www.geeksforgeeks.org/ml-intercluster-and-intracluster-distance/"
   ]
  },
  {
   "cell_type": "code",
   "execution_count": 56,
   "metadata": {
    "executionInfo": {
     "elapsed": 8986,
     "status": "ok",
     "timestamp": 1615630868712,
     "user": {
      "displayName": "Арсений Быков",
      "photoUrl": "",
      "userId": "09996060932207575868"
     },
     "user_tz": -180
    },
    "id": "dm3cUQkIGDmF"
   },
   "outputs": [],
   "source": [
    "intracluster_max={}\n",
    "for k, v in clusters.items():\n",
    "  intracluster_max[k]=max((e_metrics(x, y) for i, x in enumerate(v) for y in v[i+1:]))"
   ]
  },
  {
   "cell_type": "markdown",
   "metadata": {
    "id": "NkE1o6-EHD5A"
   },
   "source": [
    "1) Внутрикластерная дистанция- максимальное расстояние, межкластерная- минимальное расстояние между объектами кластеров."
   ]
  },
  {
   "cell_type": "code",
   "execution_count": 57,
   "metadata": {
    "colab": {
     "base_uri": "https://localhost:8080/"
    },
    "executionInfo": {
     "elapsed": 41206,
     "status": "ok",
     "timestamp": 1615630912647,
     "user": {
      "displayName": "Арсений Быков",
      "photoUrl": "",
      "userId": "09996060932207575868"
     },
     "user_tz": -180
    },
    "id": "FdPN9LJOKr4q",
    "outputId": "824ea95f-ddd1-48f6-e9bf-919fb5a084a7"
   },
   "outputs": [
    {
     "name": "stdout",
     "output_type": "stream",
     "text": [
      "0 1 2.0886149590579453\n",
      "0 2 2.2951374928106785\n",
      "0 3 1.8924640043579055\n",
      "====================\n",
      "1 0 1.2181005013691844\n",
      "1 2 0.025859988550444777\n",
      "1 3 0.0\n",
      "====================\n",
      "2 0 4.275849330087286\n",
      "2 1 0.08260708101853449\n",
      "2 3 0.0\n",
      "====================\n",
      "3 0 2.0541029840934235\n",
      "3 1 0.0\n",
      "3 2 0.0\n",
      "====================\n"
     ]
    }
   ],
   "source": [
    "for k1, v1 in clusters.items():\n",
    "  for k2, v2 in clusters.items():\n",
    "    if k1==k2:\n",
    "      continue\n",
    "    interclass=min((e_metrics(x, y) for x in v1 for y in v2))\n",
    "    print(k1, k2, interclass/intracluster_max[k1])\n",
    "  print('='*20)"
   ]
  },
  {
   "cell_type": "markdown",
   "metadata": {
    "id": "mZJd-GVbHxlp"
   },
   "source": [
    "2) Внутрикластерная дистанция- максимальное расстояние, межкластерная- максимальное расстояние между объектами кластеров."
   ]
  },
  {
   "cell_type": "code",
   "execution_count": 58,
   "metadata": {
    "colab": {
     "base_uri": "https://localhost:8080/"
    },
    "executionInfo": {
     "elapsed": 41165,
     "status": "ok",
     "timestamp": 1615630959744,
     "user": {
      "displayName": "Арсений Быков",
      "photoUrl": "",
      "userId": "09996060932207575868"
     },
     "user_tz": -180
    },
    "id": "Jd4N8F2VMjeI",
    "outputId": "8e91de32-6ec9-4ba2-80c0-0245cbed5e88"
   },
   "outputs": [
    {
     "name": "stdout",
     "output_type": "stream",
     "text": [
      "0 1 4.061464005199554\n",
      "0 2 3.3828999105983386\n",
      "0 3 3.3717726506363954\n",
      "====================\n",
      "1 0 2.3686851995247142\n",
      "1 2 1.3259566780794048\n",
      "1 3 1.2047758699016846\n",
      "====================\n",
      "2 0 6.302354591737489\n",
      "2 1 4.235632607474156\n",
      "2 3 1.6386229328153492\n",
      "====================\n",
      "3 0 3.6597622186778263\n",
      "3 1 2.2422090884337624\n",
      "3 2 0.9546846252757046\n",
      "====================\n"
     ]
    }
   ],
   "source": [
    "for k1, v1 in clusters.items():\n",
    "  for k2, v2 in clusters.items():\n",
    "    if k1==k2:\n",
    "      continue\n",
    "    interclass=max((e_metrics(x, y) for x in v1 for y in v2))\n",
    "    print(k1, k2, interclass/intracluster_max[k1])\n",
    "  print('='*20)"
   ]
  },
  {
   "cell_type": "code",
   "execution_count": 59,
   "metadata": {
    "executionInfo": {
     "elapsed": 16657,
     "status": "ok",
     "timestamp": 1615631242310,
     "user": {
      "displayName": "Арсений Быков",
      "photoUrl": "",
      "userId": "09996060932207575868"
     },
     "user_tz": -180
    },
    "id": "_-PsLQYjM17x"
   },
   "outputs": [],
   "source": [
    "intracluster_average={}\n",
    "for k, v in clusters.items():\n",
    "  intracluster_average[k]=sum((e_metrics(x, y) for i, x in enumerate(v) for j, y in enumerate(v) if i!=j))/((len(v)-1)*len(v))"
   ]
  },
  {
   "cell_type": "markdown",
   "metadata": {
    "id": "zZvC4ZkILO_c"
   },
   "source": [
    "3) Внутрикластерная дистанция- среднее расстояние, межкластерная- среднее расстояние между объектами кластеров."
   ]
  },
  {
   "cell_type": "code",
   "execution_count": 60,
   "metadata": {
    "colab": {
     "base_uri": "https://localhost:8080/"
    },
    "executionInfo": {
     "elapsed": 40485,
     "status": "ok",
     "timestamp": 1615632266322,
     "user": {
      "displayName": "Арсений Быков",
      "photoUrl": "",
      "userId": "09996060932207575868"
     },
     "user_tz": -180
    },
    "id": "_1fb0ka9NkHo",
    "outputId": "a02121a3-08f6-4308-b707-3640a915ef34"
   },
   "outputs": [
    {
     "name": "stdout",
     "output_type": "stream",
     "text": [
      "0 1 8.204673859762574\n",
      "0 2 7.4835775382561405\n",
      "0 3 7.122150054605186\n",
      "====================\n",
      "1 0 8.76885953705822\n",
      "1 2 4.243739231405648\n",
      "1 3 3.382590059745421\n",
      "====================\n",
      "2 0 14.692163561193887\n",
      "2 1 7.795489486359045\n",
      "2 3 2.1967155789974004\n",
      "====================\n",
      "3 0 9.031581189617592\n",
      "3 1 4.013472097930217\n",
      "3 2 1.4188941862583622\n",
      "====================\n"
     ]
    }
   ],
   "source": [
    "for k1, v1 in clusters.items():\n",
    "  for k2, v2 in clusters.items():\n",
    "    if k1==k2:\n",
    "      continue\n",
    "    interclass=sum((e_metrics(x, y) for x in v1 for y in v2))/(len(v1)*len(v2))\n",
    "    print(k1, k2, interclass/intracluster_average[k1])\n",
    "  print('='*20)"
   ]
  }
 ],
 "metadata": {
  "colab": {
   "collapsed_sections": [],
   "name": "Вебинар7(KNN, кластеризация).ipynb",
   "provenance": []
  },
  "kernelspec": {
   "display_name": "Python 3",
   "language": "python",
   "name": "python3"
  },
  "language_info": {
   "codemirror_mode": {
    "name": "ipython",
    "version": 3
   },
   "file_extension": ".py",
   "mimetype": "text/x-python",
   "name": "python",
   "nbconvert_exporter": "python",
   "pygments_lexer": "ipython3",
   "version": "3.7.4"
  }
 },
 "nbformat": 4,
 "nbformat_minor": 1
}
