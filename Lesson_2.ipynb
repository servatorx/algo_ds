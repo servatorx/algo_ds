{
 "cells": [
  {
   "cell_type": "code",
   "execution_count": null,
   "metadata": {},
   "outputs": [],
   "source": [
    "import numpy as np\n",
    "class linear_regression:\n",
    "    def __init__(self, eta = 0.9, max_iter = 1e4, min_weight_dist = 1e-8, lambda_coef = 0.01):\n",
    "        self._eta = eta\n",
    "        self.max_iter = max_iter\n",
    "        self.min_weight_dist = min_weight_dist\n",
    "    @staticmethod\n",
    "    def mserror(X, w, c0, y_real):\n",
    "        y = X.dot(w.T)+c0\n",
    "        return np.sum((y - y_real)**2) / y_real.shape[0] + 2*lambda_coef*w\n",
    "    @staticmethod\n",
    "    def mserror_grad(X, w, c0, y_real):\n",
    "        delta=(X.dot(w.T)+c0-y_real)\n",
    "        return 2*delta.T.dot(X)/y_real.shape[0]+ 2*lambda_coef*w, np.sum(2*delta)/y_real.shape[0]+ 2*lambda_coef*w\n",
    "    def _calculate_eta(self, X, Y):\n",
    "        gr_w, gr_c=self.mserror_grad(X, np.zeros((1, X.shape[1])), 0, Y)\n",
    "        return self._eta/np.sqrt(np.linalg.norm(gr_w)**2+(gr_c)**2)\n",
    "    def fit(self, X, Y):\n",
    "        iter_num = 0\n",
    "        weight_dist = np.inf\n",
    "        w = np.zeros((1, X.shape[1]))\n",
    "        c=0\n",
    "        eta=self._calculate_eta(X, Y)\n",
    "        while weight_dist > self.min_weight_dist and iter_num < self.max_iter:\n",
    "            gr_w, gr_c=self.mserror_grad(X, w, c, Y)\n",
    "            new_w = w - 2 * eta * gr_w\n",
    "            new_c = c - 2 * eta * gr_c\n",
    "            weight_dist = np.sqrt(np.linalg.norm(new_w - w)**2+(new_c - c)**2)\n",
    "            iter_num += 1\n",
    "            w = new_w\n",
    "            c = new_c\n",
    "        self.w=w\n",
    "        self.c=c\n",
    "    def predict(self, X):\n",
    "        return X.dot(self.w.T)+self.c\n",
    "    def test(self, X, Y):\n",
    "        return self.mserror(X, self.w, self.c, Y)\n"
   ]
  }
 ],
 "metadata": {
  "kernelspec": {
   "display_name": "Python 3",
   "language": "python",
   "name": "python3"
  },
  "language_info": {
   "codemirror_mode": {
    "name": "ipython",
    "version": 3
   },
   "file_extension": ".py",
   "mimetype": "text/x-python",
   "name": "python",
   "nbconvert_exporter": "python",
   "pygments_lexer": "ipython3",
   "version": "3.7.4"
  }
 },
 "nbformat": 4,
 "nbformat_minor": 2
}
