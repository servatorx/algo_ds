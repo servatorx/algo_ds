{
 "cells": [
  {
   "cell_type": "code",
   "execution_count": 275,
   "metadata": {},
   "outputs": [],
   "source": [
    "import matplotlib\n",
    "import numpy as np\n",
    "import matplotlib.pyplot as plt\n",
    "from linear_regression import linear_regression\n",
    "from scipy.stats import norm\n",
    "from sklearn import datasets\n",
    "%matplotlib inline"
   ]
  },
  {
   "cell_type": "code",
   "execution_count": 276,
   "metadata": {},
   "outputs": [],
   "source": [
    "def log_loss_and_grad(w, X, target):\n",
    "    m = X.shape[0]\n",
    "    y=(2*target-1)\n",
    "    score=np.dot(X, w.T).flatten()\n",
    "    \n",
    "    # Рассчёт log_loss\n",
    "    loss = np.sum(np.log(1+np.exp(-y*score)))/m \n",
    "    \n",
    "    # Рассчёт градиента\n",
    "    Z=-y/(m*(1+np.exp(y*score)))\n",
    "    grad=Z[np.newaxis, :].dot(X)\n",
    "    return loss, grad\n",
    "\n",
    "\n",
    "def optimize(w, X, y, n_iterations, eta):\n",
    "    #     потери будем записывать в список для отображения в виде графика\n",
    "    losses = []\n",
    "    \n",
    "    for i in range(n_iterations):        \n",
    "        loss, grad = log_loss_and_grad(w, X, y)\n",
    "        w = w - eta * grad\n",
    "        losses.append(loss)\n",
    "        \n",
    "    return w, losses\n",
    "\n",
    "def predict(w, X):\n",
    "    y_predicted = np.zeros(X.shape[0])  \n",
    "    score=np.dot(X, w.T).flatten()\n",
    "    Prob = 1/(1+np.exp(-score))\n",
    "    \n",
    "    #     За порог отнесения к тому или иному классу примем вероятность 0.5\n",
    "    y_predicted[Prob>0.5]=1\n",
    "    y_predicted[Prob<=0.5]=0\n",
    "        \n",
    "    return y_predicted\n",
    "\n",
    "def confusion(predicted, actual):\n",
    "    TP=np.sum(np.logical_and(predicted==1, actual==1))\n",
    "    FP=np.sum(np.logical_and(predicted==1, actual==0))\n",
    "    FN=np.sum(np.logical_and(predicted==0, actual==1))\n",
    "    TN=np.sum(np.logical_and(predicted==0, actual==0))\n",
    "    return {'TP': TP, 'FP': FP, 'FN': FN, 'TN': TN}"
   ]
  },
  {
   "cell_type": "code",
   "execution_count": 277,
   "metadata": {},
   "outputs": [],
   "source": [
    "class logistic_regression:\n",
    "    def __init__(self, n_iterations=1000, eta=0.05):\n",
    "        self.n_iterations=1000\n",
    "        self.eta=eta\n",
    "    @staticmethod\n",
    "    def log_grad(w, c, X, target):\n",
    "        m = X.shape[0]\n",
    "        y=(2*target-1)\n",
    "        score=np.dot(X, w.T).flatten()\n",
    "        Z=-y/(m*(1+np.exp(y*score)))\n",
    "        grad=Z[np.newaxis, :].dot(X)\n",
    "        return grad/m, np.sum(Z)/m\n",
    "    @classmethod\n",
    "    def optimize(cls, w, c, X, y, n_iterations, eta):\n",
    "        for i in range(n_iterations):        \n",
    "            grad_w, grad_c = cls.log_grad(w, c, X, y)\n",
    "            w = w - eta * grad_w\n",
    "            c = c - eta * grad_c\n",
    "        return w, c\n",
    "    def fit(self, X, y):\n",
    "        w0 = np.zeros((1, X.shape[1]))\n",
    "        c0=0\n",
    "        self.w, self.c= self.optimize(w0, c0, X, y, self.n_iterations, self.eta)\n",
    "    def predict_proba(self, X):  \n",
    "        score=X.dot(self.w.T).flatten()+self.c\n",
    "        return 1/(1+np.exp(-score))\n",
    "    def predict(self, X, thr=0.50):\n",
    "        proba=self.predict_proba(X)\n",
    "        y_predicted = np.zeros(proba.shape, dtype=bool) \n",
    "        y_predicted[proba>thr]=1\n",
    "        y_predicted[proba<=thr]=0\n",
    "        return y_predicted"
   ]
  },
  {
   "cell_type": "code",
   "execution_count": 278,
   "metadata": {},
   "outputs": [],
   "source": [
    "# сгеренируем данные с помощью sklearn.datasets\n",
    "classes = datasets.make_classification(n_samples=100, n_features=2, n_informative=2,\n",
    "                                       n_redundant=0, n_classes=2, random_state=8)"
   ]
  },
  {
   "cell_type": "code",
   "execution_count": 279,
   "metadata": {},
   "outputs": [
    {
     "name": "stdout",
     "output_type": "stream",
     "text": [
      "Размер массива признаков обучающей выборки (70, 2)\n",
      "Размер массива признаков тестовой выборки (30, 2)\n",
      "Размер массива ответов для обучающей выборки (70,)\n",
      "Размер массива ответов для тестовой выборки (30,)\n"
     ]
    }
   ],
   "source": [
    "# перемешивание датасета\n",
    "np.random.seed(26)\n",
    "shuffle_index = np.random.permutation(classes[0].shape[0])\n",
    "X_shuffled, y_shuffled = classes[0][shuffle_index], classes[1][shuffle_index]\n",
    "\n",
    "# разбивка на обучающую и тестовую выборки\n",
    "train_proportion = 0.7\n",
    "train_test_cut = int(len(classes[0]) * train_proportion)\n",
    "\n",
    "X_train, X_test, y_train, y_test = \\\n",
    "    X_shuffled[:train_test_cut], \\\n",
    "    X_shuffled[train_test_cut:], \\\n",
    "    y_shuffled[:train_test_cut], \\\n",
    "    y_shuffled[train_test_cut:]\n",
    "    \n",
    "print(\"Размер массива признаков обучающей выборки\", X_train.shape)\n",
    "print(\"Размер массива признаков тестовой выборки\", X_test.shape)\n",
    "print(\"Размер массива ответов для обучающей выборки\", y_train.shape)\n",
    "print(\"Размер массива ответов для тестовой выборки\", y_test.shape)"
   ]
  },
  {
   "cell_type": "code",
   "execution_count": 280,
   "metadata": {},
   "outputs": [
    {
     "name": "stdout",
     "output_type": "stream",
     "text": [
      "Итоговый вектор весов w: [[0.06452849 0.29690877]]\n",
      "Точность на обучающей выборке: 84.286\n",
      "Точность на тестовой выборке: 83.333\n"
     ]
    }
   ],
   "source": [
    "mod=logistic_regression()\n",
    "mod.fit(X_train, y_train)\n",
    "y_predicted_test = mod.predict(X_test)\n",
    "y_predicted_train = mod.predict(X_train)\n",
    "\n",
    "# В качестве меры точности возьмем долю правильных ответов\n",
    "train_accuracy = 100.0 - np.mean(np.abs(y_predicted_train - y_train)*100.0)\n",
    "test_accuracy = 100.0 - np.mean(np.abs(y_predicted_test-y_test)*100.0)\n",
    "\n",
    "print(f\"Итоговый вектор весов w: {mod.w}\")\n",
    "print(f\"Точность на обучающей выборке: {train_accuracy:.3f}\")\n",
    "print(f\"Точность на тестовой выборке: {test_accuracy:.3f}\")"
   ]
  },
  {
   "cell_type": "code",
   "execution_count": 281,
   "metadata": {},
   "outputs": [
    {
     "name": "stdout",
     "output_type": "stream",
     "text": [
      "Итоговый вектор весов w: [[0.06452849 0.29690877]]\n",
      "Точность на обучающей выборке: 77.143\n",
      "Точность на тестовой выборке: 80.000\n"
     ]
    }
   ],
   "source": [
    "mod=logistic_regression()\n",
    "mod.fit(X_train, y_train)\n",
    "y_predicted_test2 = mod.predict(X_test, 0.57)\n",
    "y_predicted_train2 = mod.predict(X_train, 0.57)\n",
    "\n",
    "# В качестве меры точности возьмем долю правильных ответов\n",
    "train_accuracy2 = 100.0 - np.mean(np.abs(y_predicted_train2 - y_train)*100.0)\n",
    "test_accuracy2 = 100.0 - np.mean(np.abs(y_predicted_test2-y_test)*100.0)\n",
    "\n",
    "print(f\"Итоговый вектор весов w: {mod2.w}\")\n",
    "print(f\"Точность на обучающей выборке: {train_accuracy2:.3f}\")\n",
    "print(f\"Точность на тестовой выборке: {test_accuracy2:.3f}\")"
   ]
  },
  {
   "cell_type": "code",
   "execution_count": null,
   "metadata": {},
   "outputs": [],
   "source": []
  },
  {
   "cell_type": "code",
   "execution_count": 282,
   "metadata": {},
   "outputs": [],
   "source": [
    "targets = y_test\n"
   ]
  },
  {
   "cell_type": "code",
   "execution_count": 283,
   "metadata": {},
   "outputs": [],
   "source": [
    "proba=np.unique(mod.predict_proba(X_test))\n"
   ]
  },
  {
   "cell_type": "code",
   "execution_count": 284,
   "metadata": {},
   "outputs": [],
   "source": [
    "TPR = [] \n",
    "FPR = []\n",
    "for p in proba[::-1]:\n",
    "    mat=confusion(mod.predict(X_test, p), y_test)\n",
    "    TPR.append(mat['TP']/(mat['TP']+mat['FN']))\n",
    "    FPR.append(mat['FP']/(mat['TN']+mat['FP']))\n",
    "TPR.append(1.)\n",
    "FPR.append(1.)\n",
    "TPR = np.array(TPR)\n",
    "FPR = np.array(FPR)\n",
    "\n",
    "\n",
    "recall = [0] \n",
    "precision = []\n",
    "for p in proba[::-1][1:]:\n",
    "    mat=confusion(mod.predict(X_test, p), y_test)\n",
    "    recall.append(mat['TP']/(mat['TP']+mat['FN']))\n",
    "    precision.append(mat['TP']/(mat['TP']+mat['FP']))\n",
    "\n",
    "recall.append(1.)\n",
    "#precision.append(1.)\n",
    "\n",
    "precision.append(np.sum(y_test)/len(y_test))\n",
    "recall = np.array(recall)\n",
    "precision = np.array(precision)"
   ]
  },
  {
   "cell_type": "code",
   "execution_count": null,
   "metadata": {},
   "outputs": [],
   "source": []
  },
  {
   "cell_type": "code",
   "execution_count": null,
   "metadata": {},
   "outputs": [],
   "source": []
  },
  {
   "cell_type": "code",
   "execution_count": null,
   "metadata": {},
   "outputs": [],
   "source": []
  },
  {
   "cell_type": "code",
   "execution_count": 285,
   "metadata": {},
   "outputs": [
    {
     "name": "stdout",
     "output_type": "stream",
     "text": [
      "Для порога по вероятности 0.5 на тестовой выборке имеем: {'TP': 11, 'FP': 4, 'FN': 1, 'TN': 14}\n"
     ]
    }
   ],
   "source": [
    "print(\"Для порога по вероятности 0.5 на тестовой выборке имеем:\"+\n",
    "      f\" {confusion(mod.predict(X_test), y_test)}\")\n"
   ]
  },
  {
   "cell_type": "code",
   "execution_count": null,
   "metadata": {},
   "outputs": [],
   "source": [
    "\n"
   ]
  },
  {
   "cell_type": "code",
   "execution_count": 286,
   "metadata": {},
   "outputs": [
    {
     "data": {
      "text/plain": [
       "[<matplotlib.lines.Line2D at 0x21c5d4e5708>]"
      ]
     },
     "execution_count": 286,
     "metadata": {},
     "output_type": "execute_result"
    },
    {
     "data": {
      "image/png": "[encoded data removed]",
      "text/plain": [
       "<Figure size 432x288 with 1 Axes>"
      ]
     },
     "metadata": {
      "needs_background": "light"
     },
     "output_type": "display_data"
    }
   ],
   "source": [
    "\n",
    "AUC_PR = np.sum(precision*(TPR[1:]-TPR[:-1]))\n",
    "plt.title('PR curve')\n",
    "plt.ylim(0, 1.05)\n",
    "plt.xlabel('recall')\n",
    "plt.ylabel('presision')\n",
    "plt.grid()\n",
    "plt.legend(' ', title=f'AUC-PR={AUC_PR:.3f}', loc='lower right')\n",
    "plt.plot(recall[1:], precision)"
   ]
  },
  {
   "cell_type": "code",
   "execution_count": null,
   "metadata": {},
   "outputs": [],
   "source": []
  },
  {
   "cell_type": "code",
   "execution_count": 287,
   "metadata": {},
   "outputs": [
    {
     "data": {
      "text/plain": [
       "[<matplotlib.lines.Line2D at 0x21c5d54d908>]"
      ]
     },
     "execution_count": 287,
     "metadata": {},
     "output_type": "execute_result"
    },
    {
     "data": {
      "image/png": "[encoded data removed]",
      "text/plain": [
       "<Figure size 432x288 with 1 Axes>"
      ]
     },
     "metadata": {
      "needs_background": "light"
     },
     "output_type": "display_data"
    }
   ],
   "source": [
    "\n",
    "AUC_ROC = np.sum(0.5*(FPR[1:]-FPR[:-1])*(TPR[1:]+TPR[:-1]))\n",
    "plt.title('ROC curve')\n",
    "plt.ylim(0, 1.05)\n",
    "plt.xlabel('FPR')\n",
    "plt.ylabel('TPR')\n",
    "plt.grid()\n",
    "plt.legend(' ', title=f'AUC-ROC={AUC_ROC:.3f}', loc='lower right')\n",
    "\n",
    "plt.plot(FPR, TPR)\n",
    "\n"
   ]
  }
 ],
 "metadata": {
  "kernelspec": {
   "display_name": "Python 3",
   "language": "python",
   "name": "python3"
  },
  "language_info": {
   "codemirror_mode": {
    "name": "ipython",
    "version": 3
   },
   "file_extension": ".py",
   "mimetype": "text/x-python",
   "name": "python",
   "nbconvert_exporter": "python",
   "pygments_lexer": "ipython3",
   "version": "3.7.4"
  }
 },
 "nbformat": 4,
 "nbformat_minor": 2
}
